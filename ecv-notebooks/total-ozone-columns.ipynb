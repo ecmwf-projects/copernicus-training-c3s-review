{
 "cells": [
  {
   "cell_type": "markdown",
   "id": "municipal-blake",
   "metadata": {},
   "source": [
    "![logo](../img/LogoLine_horizon_C3S.png)\n",
    "\n",
    "# Exploring an ozone product available through the Climate Data Store (CDS)\n",
    "\n",
    "In this notebook we show a practical example on how to investigate ozone products from the [CDS](https://cds.climate.copernicus.eu/cdsapp#!/dataset/satellite-ozone-v1?tab=form). We will explore here the spatial and temporal ozone distribution of the total ozone columns. Total colum means here, the sum over all ozone from ground till top of the atmosphere. These are generally measured from space using earthshine backscattered radiance\n",
    "observations from nadir-viewing instruments. For altitude dependent information we refer to the ozone vertical profiles. \n",
    "In a first step we will show how to retrieve one of the total ozone column dataset from the CDS. This dataset consists out of gridded monthly ozone files, which contain global distributions of ozone vertical columns on a global latitude, longitude grid. \n",
    "In a second step we perform a spatial and temporal analysis of the ozone distribution by visualizing the data. Here we present four typical use cases:\n",
    "* Time series (Hovmöller diagram) of ozone: ozone distribution as a function of latitude over the years.  \n",
    "* The evolution of the global ozone distribution during the course over the year 2021. \n",
    "* The evolution of the ozone hole above the Antarctic continent over the year 2021.\n",
    "* The evolution of the ozone hole above the Antarctic continent over multiple years (1995-2022).  \n",
    "\n",
    "The last step derives conclusions about the plots we made. \n",
    "From the examples in this notebook, one should have an idea on how data from the CDS can be visualized to study total ozone spatial and temporal variability. We encourage the reader to create variations on the examples here provided.  In the end, one should also be able to investigate the other ozone products in similar ways. \n"
   ]
  },
  {
   "cell_type": "markdown",
   "id": "chubby-partner",
   "metadata": {},
   "source": [
    "## The merged total column product\n",
    "\n",
    "In this notebook we choose to demonstrate the GTO-ECV product. GTO-ECV is a merged data product, meaning that it was build from an ensemble of bias-corrected single sensor products. The spatial resolution is 1°x1°. An interesting feature of this product is that it provides a consistent and accurate long-term total ozone dataset covering the period from July 1995 until April 2023. Note that this dataset can be extended in time on the CDS, as new data become available. Detailed information on GTO-ECV and on all other ozone products can be found in the documentation section of the CDS. An algorithm description on how those datasets were produced is given in the  Algorithm Theoretical Baseline Document ([ATBD](https://datastore.copernicus-climate.eu/documents/satellite-ozone/C3S2_312a_Lot2_ATBD_O3_latest.pdf)), a guide on the content and on how to use the data is given in the  Product User Guide and Specification document ([PUGS](https://datastore.copernicus-climate.eu/documents/satellite-ozone/C3S2_312a_Lot2_PUGS_O3_latest.pdf)). "
   ]
  },
  {
   "cell_type": "markdown",
   "id": "cloudy-straight",
   "metadata": {},
   "source": [
    "## Time series diagram of ozone\n",
    "\n",
    " "
   ]
  },
  {
   "cell_type": "markdown",
   "id": "soviet-antigua",
   "metadata": {},
   "source": [
    "### Import the python modules\n",
    "\n",
    "First we import the python modules that contain the high-level functions that we will use for our purposes. Most of the libraries are commonly used libraries.   "
   ]
  },
  {
   "cell_type": "code",
   "execution_count": null,
   "id": "happy-moderator",
   "metadata": {},
   "outputs": [],
   "source": [
    "import numpy as np #linear algebra package\n",
    "import matplotlib  #provide plotting routines\n",
    "import matplotlib.pyplot as plt #provide plotting routines\n",
    "import cartopy #for geospatial data analyses\n",
    "import cartopy.crs as ccrs #The crs module defines Coordinate Reference Systems\n",
    "import datetime as dt #library that handles the time and date. \n",
    "import xarray #library used for working with data, provides us with some easy to use data structures. Install also netCDF4 optional dependency here seperately.  \n",
    "import pandas as pd #library used for working with data, we will just a few convenient functions.  \n",
    "import cdsapi #python package that will allow us to make CDS dataset easily available in this notebook here. \n",
    "import zipfile #to unzip datafiles that are in zip format. \n",
    "import glob #to collect files in a directory within python"
   ]
  },
  {
   "cell_type": "markdown",
   "id": "optional-polls",
   "metadata": {},
   "source": [
    "### Downloading the GTO-ECV product"
   ]
  },
  {
   "cell_type": "markdown",
   "id": "84dd43ad-389c-4204-b3fc-19b7e36c7807",
   "metadata": {},
   "source": [
    "The library that takes care of downloading the data from the CDS is the *cadspi* library. Which can be installed in a common way with the *pip* command. We only need to set manually the CDS API credentials, see the information on the [*How to use the CDS API*](https://cds.climate.copernicus.eu/api-how-to) webpage."
   ]
  },
  {
   "cell_type": "code",
   "execution_count": null,
   "id": "statistical-order",
   "metadata": {},
   "outputs": [],
   "source": [
    "request=['satellite-ozone-v1',\n",
    "         {'processing_level': 'level_3',\n",
    "          'variable': 'atmosphere_mole_content_of_ozone',\n",
    "       'vertical_aggregation': 'total_column',\n",
    "          'sensor': 'merged_uv',\n",
    "          'year': [f'{y:04d}' for y in range(1995,2024)],\n",
    "          'month': [f'{m:02d}' for m in range(1,13)],\n",
    "          'version': 'v2000'}]\n",
    "datadir=\"./datadir\" #directory where the datafiles will appear. Create this directory if not existing, the name of the path can be adapted."
   ]
  },
  {
   "cell_type": "markdown",
   "id": "alternative-count",
   "metadata": {},
   "source": [
    "The above pythonic structure can also be found on https://cds.climate.copernicus.eu/cdsapp#!/dataset/satellite-ozone-v1?tab=form by choosing the desired fields and clicking on *show toolbox request*. Downloading the data from the CDS locally goes as follows:      "
   ]
  },
  {
   "cell_type": "code",
   "execution_count": null,
   "id": "cleared-quick",
   "metadata": {},
   "outputs": [],
   "source": [
    "c = cdsapi.Client()\n",
    "remote = c.retrieve(*request)\n",
    "datazipfile=remote.download() #will download the datafiles from the CDS in a zipfile (the name of the zipfile is given by the variable datazipfile) in the current directory. \n",
    "with zipfile.ZipFile(datazipfile, \"r\") as zip_ref: #unzip into datadir directory\n",
    "    zip_ref.extractall(datadir)\n",
    "   "
   ]
  },
  {
   "cell_type": "markdown",
   "id": "0833cd06-2273-4ee7-88e4-27aa9f1af589",
   "metadata": {},
   "source": [
    "### Analysis and visualisation of the data"
   ]
  },
  {
   "cell_type": "markdown",
   "id": "coordinated-actress",
   "metadata": {},
   "source": [
    "Making the ozone dataset accessible in our notebook is done by converting the downloaded datafiles to a list of xarray objects by using: "
   ]
  },
  {
   "cell_type": "code",
   "execution_count": null,
   "id": "extreme-directory",
   "metadata": {},
   "outputs": [],
   "source": [
    "dataset=[xarray.open_dataset(f) for f in glob.glob(datadir+\"/*.nc\")] #construct a list of xarray objects sorted by date, these objects contains all the information that is in the monthly files. \n",
    "dataset.sort(key=lambda x: dt.datetime.strptime(x.time_coverage_start,\"%Y%m%d\")) #sort by increasing dates"
   ]
  },
  {
   "cell_type": "markdown",
   "id": "adult-arthritis",
   "metadata": {},
   "source": [
    "Note that we have obtained now a data structure, named *dataset*, which is a list of monthly ozone columns over a latitude, longitude grid. Otherwise stated, the content of the requested datafiles on the CDS is now available in dataset, and we are able to do some analysis on this data. A commonly used unit for measuring ozone vertical columns is Dobson Units (DU), which is obtained by using the conversion attribute *multiplication_factor_to_convert_to_DU* :"
   ]
  },
  {
   "cell_type": "code",
   "execution_count": null,
   "id": "empty-forestry",
   "metadata": {},
   "outputs": [],
   "source": [
    "for x in dataset:\n",
    "    x['total_ozone_column']=x['total_ozone_column']*x['total_ozone_column'].multiplication_factor_to_convert_to_DU\n",
    "  "
   ]
  },
  {
   "cell_type": "markdown",
   "id": "9ceb70b4-b2ac-4fb5-a5fc-d35ad1d3532a",
   "metadata": {},
   "source": [
    "Note that *x* represents one month. Next, we take the average along the longitude dimension.  "
   ]
  },
  {
   "cell_type": "code",
   "execution_count": null,
   "id": "b3c6e0d2-5ca8-40e7-a270-7e4bf1036143",
   "metadata": {},
   "outputs": [],
   "source": [
    "dataset_mean_long=[x.mean(dim='longitude',skipna=True) for x in dataset]"
   ]
  },
  {
   "cell_type": "markdown",
   "id": "7473cf48-a2e4-478a-ab9a-24e37ce1e133",
   "metadata": {},
   "source": [
    "where *dataset_mean_long* is now a list of monthly ozone columns as a function of latitude. In the next step we do a technically transformation: we transform the list *dataset_mean_long* into a single xarray structure. We will see in the subsequent lines that this will provide us with an easy way of visualising the data. "
   ]
  },
  {
   "cell_type": "code",
   "execution_count": null,
   "id": "frequent-prompt",
   "metadata": {},
   "outputs": [],
   "source": [
    "dataset=xarray.concat(dataset_mean_long,pd.Index([dt.datetime.strptime(x.time_coverage_start,\"%Y%m%d\") for x in dataset], name='date'))"
   ]
  },
  {
   "cell_type": "markdown",
   "id": "2ec9f01a-00e4-40d1-8259-a532d5f5e19d",
   "metadata": {},
   "source": [
    "*pd.Index(...)* is a method to create the extra dimension *date* in the xarray data structure. \n",
    "<br>\n",
    "Next code block visualizes the dataset with a very limited number of code lines. "
   ]
  },
  {
   "cell_type": "code",
   "execution_count": null,
   "id": "certain-asian",
   "metadata": {},
   "outputs": [],
   "source": [
    "o3plot=dataset['total_ozone_column'].plot(x=dataset['total_ozone_column'].dims[0],y=dataset['total_ozone_column'].dims[1],cmap='viridis'\\\n",
    "                                          ,add_labels=False,add_colorbar=False,size=10,aspect=2.0,vmin=200,vmax=400)\n",
    "# the dataset['total_ozone_column'].plot(...) line above deliver a nice figure (technically speaking this is the xarray wrapper of the function *matplotlib.pyplot.pcolormesh*) \n",
    "#However we want to set our own labels, title and add colorbar, this is done in the code below. \n",
    "ax = plt.gca() #gives the current axes instance on the current figure, this is needed to provide labels and a title on the plot. \n",
    "ax.set_xlabel(\"time\", fontsize=15) #xlabel on the figure\n",
    "ax.set_ylabel(\"latitude\", fontsize=15) #ylabel on the figure\n",
    "ax.set_title(\"Hovmöller diagram of total ozone column (1995-2023)\", fontsize=25) #title above the figure\n",
    "cbar = plt.colorbar(o3plot) #this is to attach a colorbar to the plot. \n",
    "cbar.set_label('DU', rotation=270,fontsize=15,labelpad=18) #placement of the label of the colorbar\n"
   ]
  },
  {
   "cell_type": "markdown",
   "id": "electric-timothy",
   "metadata": {},
   "source": [
    "In this plot we see how the ozone distribution varies with  latitude and time (per month). The lowest columns are found in the equatorial and tropical regions, while larger and more variable columns are observed at mid-latitude and in polar regions. This behavior results from large scale transport of air masses in the atmosphere. The signature of the ozone hole can be clearly identified each year during the austral spring season. These data can be further analysed to study the details of the variability and trends in total ozone.\n",
    "The blank areas in the plot correspond to missing data (e.g. yearly polar night for measurement techniques based on solar UV radiation)."
   ]
  },
  {
   "cell_type": "markdown",
   "id": "realistic-privacy",
   "metadata": {},
   "source": [
    "## The evolution of the global ozone distribution during the course of the year 2021\n",
    "\n"
   ]
  },
  {
   "cell_type": "markdown",
   "id": "76bc358e-e782-4a86-affe-85e2b7a91481",
   "metadata": {},
   "source": [
    "In this section we will create a series of maps which show the total ozone columns during the year 2021. We use the same dataset as in the previous section, but now limited to the year 2021. "
   ]
  },
  {
   "cell_type": "code",
   "execution_count": null,
   "id": "violent-genesis",
   "metadata": {},
   "outputs": [],
   "source": [
    "dataset2=[xarray.open_dataset(f) for f in glob.glob(datadir+\"/2021*.nc\")]\n",
    "dataset2.sort(key=lambda x: dt.datetime.strptime(x.time_coverage_start,\"%Y%m%d\"))"
   ]
  },
  {
   "cell_type": "markdown",
   "id": "ongoing-factor",
   "metadata": {},
   "source": [
    "We create in the code block below 12 world maps. The gridded (in latitude, longitude) monthly datafiles, now contained in *dataset2*, are directly usable. Therefore the next code lines are dealing with the construction of the plots. Note that we use here a different way to create a plot then in the previous section, because this approach is more suitable when creating plots that contains multiple subplots.    "
   ]
  },
  {
   "cell_type": "code",
   "execution_count": null,
   "id": "signal-taxation",
   "metadata": {},
   "outputs": [],
   "source": [
    "proj=ccrs.PlateCarree() #choose projection\n",
    "latlon_bounds=[-180, 180, -90, 90] #latitude, longitude boundaries\n",
    "figure, axs = plt.subplots(nrows=3,ncols=4,figsize=(15,15),subplot_kw={'projection': proj}); #prepare the 12 maps for the different subplots. \n",
    "axs=axs.flatten() #needed to be able to loop in the next line over the axes.\n",
    "for x in axs:\n",
    "    x.set_extent(latlon_bounds, crs=ccrs.PlateCarree()) #method to set the boundaries               \n",
    "figure.suptitle(\"Ozone vertical column density (DU) over 2021\",fontsize=25) #main title\n",
    "for i,data in enumerate(dataset2): #loop over the monthly total ozone column data\n",
    "    o3=data['total_ozone_column'].to_numpy()*data['total_ozone_column'].multiplication_factor_to_convert_to_DU #conversion to Dobson units. \n",
    "    #converting to numpy datastructure, this is needed when feeding the plotting routine pcolormesh further. \n",
    "    lat=data['latitude'].to_numpy() #converting to numpy datastructure, this is needed when feeding the plotting routine pcolormesh further. \n",
    "    long=data['longitude'].to_numpy() #converting to numpy datastructure, this is needed when feeding the plotting routine pcolormesh further. \n",
    "    dat=dt.datetime.strptime(data.time_coverage_start,\"%Y%m%d\") #extracting the date\n",
    "    datstr=dt.datetime.strftime(dat,\"%m/%Y\") #month/year structure\n",
    "    axs[i].coastlines() #adding lines around the coasts. \n",
    "    axs[i].set_title('{}'.format(datstr),fontsize=18) # update title of each subplot with attribute time_coverage_start, formatted as month/year. \n",
    "    cs=axs[i].pcolormesh(long,lat,o3,shading='auto',cmap='viridis',transform=ccrs.PlateCarree(),vmin=200,vmax=400) #plotting routine to colour the map according to \n",
    "    #the ozone distributions.\n",
    "figure.subplots_adjust(bottom=0.51, top=0.9, left=0.01, right=1.0,wspace=0.02, hspace=0.2) #positioning of the different subplots. \n",
    "cbar_ax = figure.add_axes([0.3, 0.455, 0.4, 0.02]) #positioning of the colorbar. \n",
    "cbar=figure.colorbar(cs,cax=cbar_ax,ticks=np.arange(100,550,50),orientation='horizontal') #add a colorbar\n",
    "cbar.set_label('DU', rotation=0,fontsize=15,labelpad=18) #label for the colorbar\n",
    "plt.show()"
   ]
  },
  {
   "cell_type": "markdown",
   "id": "resident-detective",
   "metadata": {},
   "source": [
    "These plots illustrate the seasonal evolution of the global ozone distribution. The variability of stratospheric ozone in the Arctic and at mid-latitudes is particularly important in spring when returning sunlight (after the polar night) alters stratospheric temperatures via shortwave heating, thus modifying atmospheric dynamics. During the mid-latitude summer season and in the tropics, ozone columns are smaller and show less variability. The Southern hemisphere is characterised by the ozone hole, which develops each year in early spring (from September to November). The signature of this ozone hole is captured in the data noting that at high southern latitudes data remain unavailable (the blank regions corresponds to the polar night when no measurements can be performed).\n"
   ]
  },
  {
   "cell_type": "markdown",
   "id": "loved-burke",
   "metadata": {},
   "source": [
    "## The evolution of the ozone hole above Antarctica"
   ]
  },
  {
   "cell_type": "markdown",
   "id": "7ac6b45d-add2-435d-aef9-70bdb7aee68a",
   "metadata": {},
   "source": [
    "A very interesting figure can be made by just changing the projection of the previous plot. Now we look in a polar projection over the South Pole to investigate\n",
    "the ozone hole over Antartica during austral spring. "
   ]
  },
  {
   "cell_type": "code",
   "execution_count": null,
   "id": "raised-ivory",
   "metadata": {},
   "outputs": [],
   "source": [
    "proj=ccrs.SouthPolarStereo() #choose projection\n",
    "latlon_bounds=[-180, 180, -90, -60] #latitude, longitude boundaries\n",
    "figure, axs = plt.subplots(nrows=2,ncols=6,figsize=(15,15),subplot_kw={'projection': proj});\n",
    "axs=axs.flatten()\n",
    "for x in axs:\n",
    "    x.set_extent(latlon_bounds, crs=ccrs.PlateCarree())                \n",
    "figure.suptitle(\"Ozone vertical column density (DU)\",fontsize=25)\n",
    "for i,data in enumerate(dataset2): \n",
    "    o3=data['total_ozone_column'].to_numpy()*data['total_ozone_column'].multiplication_factor_to_convert_to_DU\n",
    "    lat=data['latitude'].to_numpy()\n",
    "    long=data['longitude'].to_numpy()\n",
    "    dat=dt.datetime.strptime(data.time_coverage_start,\"%Y%m%d\")\n",
    "    datstr=dt.datetime.strftime(dat,\"%m/%Y\")\n",
    "    axs[i].coastlines()\n",
    "    axs[i].set_title('{}'.format(datstr),fontsize=18)\n",
    "    cs=axs[i].pcolormesh(long,lat,o3,shading='auto',cmap='viridis',transform=ccrs.PlateCarree(),vmin=200,vmax=400)\n",
    "figure.subplots_adjust(bottom=0.51, top=0.95, left=0.01, right=1.0,wspace=0.02, hspace=-0.12)\n",
    "cbar_ax = figure.add_axes([0.3, 0.455, 0.4, 0.02])\n",
    "cbar=figure.colorbar(cs,cax=cbar_ax,ticks=np.arange(100,550,50),orientation='horizontal')\n",
    "cbar.set_label('DU', rotation=0,fontsize=15,labelpad=18)\n",
    "plt.show()"
   ]
  },
  {
   "cell_type": "markdown",
   "id": "emerging-delicious",
   "metadata": {},
   "source": [
    "This plot shows the ozone hole in the Southern hemisphere seen from a polar projection. The ozone hole (dark region) develops each year in early spring (from September to November). As mentioned already, the blank regions are due to the polar night. "
   ]
  },
  {
   "cell_type": "markdown",
   "id": "f486b545-d885-417e-b162-d5d6955c4dd6",
   "metadata": {},
   "source": [
    "## Time series of the ozone hole over the years in the polar projection during October"
   ]
  },
  {
   "cell_type": "markdown",
   "id": "04f9d939-dd56-43eb-8c27-cce2922e58db",
   "metadata": {},
   "source": [
    "In line with the two previous use cases, we can also show the evolution of the ozone hole over the years 1995 to 2022 during the month October. "
   ]
  },
  {
   "cell_type": "code",
   "execution_count": null,
   "id": "77bcb828-1859-44f4-921b-2b16ae2c5881",
   "metadata": {},
   "outputs": [],
   "source": [
    "dataset3=[xarray.open_dataset(f) for f in glob.glob(datadir+\"/????10*.nc\")] #extract the files from each year of the month October and create xarray objects.\n",
    "dataset3.sort(key=lambda x: dt.datetime.strptime(x.time_coverage_start,\"%Y%m%d\"))"
   ]
  },
  {
   "cell_type": "code",
   "execution_count": null,
   "id": "9f653ea7-786a-447b-a40d-0535e0e9cdff",
   "metadata": {},
   "outputs": [],
   "source": [
    "proj=ccrs.SouthPolarStereo() #choose projection\n",
    "latlon_bounds=[-180, 180, -90, -60] #latitude, longitude boundaries\n",
    "figure, axs = plt.subplots(nrows=4,ncols=7,figsize=(15,15),subplot_kw={'projection': proj});\n",
    "axs=axs.flatten()\n",
    "for x in axs:\n",
    "    x.set_extent(latlon_bounds, crs=ccrs.PlateCarree())                \n",
    "figure.suptitle(\"Ozone vertical column density (DU)\",fontsize=25)\n",
    "for i,data in enumerate(dataset3): \n",
    "    o3=data['total_ozone_column'].to_numpy()*data['total_ozone_column'].multiplication_factor_to_convert_to_DU\n",
    "    lat=data['latitude'].to_numpy()\n",
    "    long=data['longitude'].to_numpy()\n",
    "    dat=dt.datetime.strptime(data.time_coverage_start,\"%Y%m%d\")\n",
    "    datstr=dt.datetime.strftime(dat,\"%Y\")\n",
    "    axs[i].coastlines()\n",
    "    axs[i].set_title('{}'.format(datstr),fontsize=18)\n",
    "    cs=axs[i].pcolormesh(long,lat,o3,shading='auto',cmap='viridis',transform=ccrs.PlateCarree(),vmin=200,vmax=400)\n",
    "figure.subplots_adjust(top=0.95, left=0.01, right=1.0,wspace=0.02, hspace=-0.05)\n",
    "cbar_ax = figure.add_axes([0.3, 0.055, 0.4, 0.02])\n",
    "cbar=figure.colorbar(cs,cax=cbar_ax,ticks=np.arange(100,550,50),orientation='horizontal')\n",
    "cbar.set_label('DU', rotation=0,fontsize=15,labelpad=18)\n",
    "plt.show()\n"
   ]
  },
  {
   "cell_type": "markdown",
   "id": "ecd7250e-8a50-4dfd-987b-bedfdde019a5",
   "metadata": {},
   "source": [
    "This plot shows the ozone hole in the southern hemisphere seen from a polar projection, from 1995 to 2022 in October. Up to 2002 the GTO-ECV data record consists out of GOME/ERS-2 data only. This sensor had a relatively sparse spatial sampling compared to\n",
    "the sensors included in GTO-ECV in the later period. Moreover, the size of the GOME ground-pixels was much larger. Global coverage was achieved only after 3 days, which can have a significant impact on monthly mean values, in particular in months characterized by considerable changes in total ozone columns, e.g. boreal or austral spring. The result is the stripy structure in the ozone distribution in the nineties, which vanished with the ingestion of the additional satellite sensors, e.g. OMI, with better sampling."
   ]
  },
  {
   "cell_type": "code",
   "execution_count": null,
   "id": "c7522508-3cce-4d60-b34a-77d7636fab9e",
   "metadata": {},
   "outputs": [],
   "source": []
  }
 ],
 "metadata": {
  "kernelspec": {
   "display_name": "Python 3 (ipykernel)",
   "language": "python",
   "name": "python3"
  },
  "language_info": {
   "codemirror_mode": {
    "name": "ipython",
    "version": 3
   },
   "file_extension": ".py",
   "mimetype": "text/x-python",
   "name": "python",
   "nbconvert_exporter": "python",
   "pygments_lexer": "ipython3",
   "version": "3.9.19"
  }
 },
 "nbformat": 4,
 "nbformat_minor": 5
}
